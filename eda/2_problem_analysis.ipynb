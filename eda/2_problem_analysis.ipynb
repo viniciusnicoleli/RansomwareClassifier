{
 "cells": [
  {
   "cell_type": "markdown",
   "id": "43282705",
   "metadata": {},
   "source": [
    "<div style='text-align: center; font-family: \"Helvetica Neue\", Helvetica, Arial, sans-serif;'>\n",
    "  <span style='font-size: 40px;'>🚀</span>\n",
    "  <span style='font-weight: bold; font-size: 32px; color: #2C4C65;'>TRM Extra Mile | Data Scientist</span>\n",
    "</div>\n",
    "<div style='text-align: center; font-family: \"Helvetica Neue\", Helvetica, Arial, sans-serif;'>\n",
    "  <span style='font-weight: normal; font-size: 19px; color: #F;'>Data Analysis</span>\n",
    "</div>\n",
    "\n",
    "<br><br>\n",
    "\n",
    "<div style='color: #2C4C65; text-align: center; font-size: 28px; font-weight: bold'>\n",
    "  <p>\n",
    "    Content\n",
    "  </p>\n",
    "</div>\n",
    "<div style='text-align: center; font-size: 20px;'>\n",
    "  <span style='font-size: 20px;'>✅</span>\n",
    "  <span>Impact of the problem in 2016</p>\n",
    "</div>\n",
    "<div style='text-align: center; font-size: 20px;'>\n",
    "  <span style='font-size: 20px;'>✅</span>\n",
    "  <span>What's the main objective</p>\n",
    "</div>\n",
    "<div style='text-align: center; font-size: 20px;'>\n",
    "  <span style='font-size: 20px;'>✅</span>\n",
    "  <span>Why a ML model should do the job</p>\n",
    "</div>"
   ]
  },
  {
   "cell_type": "code",
   "execution_count": 1,
   "id": "5cbed59c",
   "metadata": {},
   "outputs": [
    {
     "name": "stdout",
     "output_type": "stream",
     "text": [
      "<class 'pandas.core.frame.DataFrame'>\n",
      "RangeIndex: 1865631 entries, 0 to 1865630\n",
      "Data columns (total 13 columns):\n",
      " #   Column          Dtype  \n",
      "---  ------          -----  \n",
      " 0   address         object \n",
      " 1   year            int64  \n",
      " 2   day             int64  \n",
      " 3   length          int64  \n",
      " 4   weight          float64\n",
      " 5   count           int64  \n",
      " 6   looped          int64  \n",
      " 7   neighbors       int64  \n",
      " 8   income          float64\n",
      " 9   label           object \n",
      " 10  date_operation  object \n",
      " 11  whichDayWeek    int64  \n",
      " 12  target          int64  \n",
      "dtypes: float64(2), int64(8), object(3)\n",
      "memory usage: 185.0+ MB\n"
     ]
    }
   ],
   "source": [
    "import pandas as pd\n",
    "import numpy as np\n",
    "import os, sys\n",
    "\n",
    "import seaborn as sns\n",
    "from matplotlib import pyplot as plt\n",
    "\n",
    "sys.path.insert(0, os.path.abspath(\"..\"))\n",
    "\n",
    "# Heist Bitcoin analisys\n",
    "df = pd.read_csv('../data/bronze_data.csv')\n",
    "df.drop(['Unnamed: 0','str_day'],axis=1, inplace=True)\n",
    "df.info()"
   ]
  },
  {
   "cell_type": "code",
   "execution_count": 2,
   "id": "dd88b8c5",
   "metadata": {},
   "outputs": [
    {
     "data": {
      "text/plain": [
       "{'count': 'contagem de operações agruapadas nas últimas 24 horas',\n",
       " 'income': 'quantidade recebida em satoshis (1 BTC = 100M satoshis)',\n",
       " 'weight': 'Quantidade de contas que estão enviando dinheiro para esse endereço final, quanto maior o weight, maior a quantidade de endereços de input, o que é ruim (Inputs/ValorBTCMovimentado)',\n",
       " 'neighbors': 'Quantidade de endereços que interagiram com esse endereço nas ultimas 24 horas (Tanto que enviaram quanto que receberam dinheiro desse endereço)',\n",
       " 'looped': 'Quantidade de endereços anteriores que esses BTCs foram divididos para então mergear nesse endereço atual (Essa quebra é feita para tentar atrapalhar o rastreio da operação)',\n",
       " 'lenght': 'Quantidade de steps individuais de cada BTC transferido até chegar no endereço final [Diferente do Looped, porque no Looped ele pega a quantidade de endereços anteriores que foram utilizados para mergear no endereço final]'}"
      ]
     },
     "execution_count": 2,
     "metadata": {},
     "output_type": "execute_result"
    }
   ],
   "source": [
    "{\n",
    "    'count':'contagem de operações agruapadas nas últimas 24 horas',\n",
    "    'income':'quantidade recebida em satoshis (1 BTC = 100M satoshis)',\n",
    "    'weight':'Quantidade de contas que estão enviando dinheiro para esse endereço final, quanto maior o weight, maior a quantidade de endereços de input, o que é ruim (Inputs/ValorBTCMovimentado)',\n",
    "    'neighbors':'Quantidade de endereços que interagiram com esse endereço nas ultimas 24 horas (Tanto que enviaram quanto que receberam dinheiro desse endereço)',\n",
    "    'looped':'Quantidade de endereços anteriores que esses BTCs foram divididos para então mergear nesse endereço atual (Essa quebra é feita para tentar atrapalhar o rastreio da operação)',\n",
    "    'lenght':'Quantidade de steps individuais de cada BTC transferido até chegar no endereço final [Diferente do Looped, porque no Looped ele pega a quantidade de endereços anteriores que foram utilizados para mergear no endereço final]'\n",
    "}"
   ]
  },
  {
   "cell_type": "markdown",
   "id": "661a5253",
   "metadata": {},
   "source": [
    "<br><br>\n",
    "\n",
    "<div style='text-align: center; font-family: \"Helvetica Neue\", Helvetica, Arial, sans-serif;'>\n",
    "  <span style='font-size: 30px;'>📊</span>\n",
    "  <span style='font-weight: bold; font-size: 32px; color: #2C4C65;'>Analysing 2017 fraud</span>\n",
    "</div>\n",
    "\n",
    "<br>"
   ]
  },
  {
   "cell_type": "code",
   "execution_count": 2,
   "id": "7bb11950",
   "metadata": {},
   "outputs": [
    {
     "data": {
      "text/plain": [
       "31865613.344452"
      ]
     },
     "execution_count": 2,
     "metadata": {},
     "output_type": "execute_result"
    }
   ],
   "source": [
    "df['BTC'] = df.apply(lambda x: x['income']/1_000_000, axis=1)\n",
    "df.loc[df['target'] == 1, 'BTC'].sum()"
   ]
  },
  {
   "cell_type": "code",
   "execution_count": 3,
   "id": "1783487c",
   "metadata": {},
   "outputs": [
    {
     "data": {
      "text/plain": [
       "address            object\n",
       "year                int64\n",
       "day                 int64\n",
       "length              int64\n",
       "weight            float64\n",
       "count               int64\n",
       "looped              int64\n",
       "neighbors           int64\n",
       "income            float64\n",
       "label              object\n",
       "date_operation     object\n",
       "whichDayWeek        int64\n",
       "target              int64\n",
       "BTC               float64\n",
       "dtype: object"
      ]
     },
     "execution_count": 3,
     "metadata": {},
     "output_type": "execute_result"
    }
   ],
   "source": [
    "df.dtypes"
   ]
  },
  {
   "cell_type": "code",
   "execution_count": 4,
   "id": "0372a608",
   "metadata": {},
   "outputs": [],
   "source": [
    "df_plot = df.query(\"target == 1\").groupby(['year']).agg(\n",
    "    sum_btc_target=('BTC','sum'),\n",
    "    mean_btc_target=('BTC','mean')\n",
    ").reset_index().sort_values(by='year', ascending=False).applymap(lambda x: f\"{x:0.3f}\")\n",
    "\n",
    "df_plot['year'] = df_plot['year'].astype('float').astype('int')\n",
    "df_plot['sum_btc_target'] = df_plot['sum_btc_target'].astype('float').astype('int')\n",
    "df_plot['mean_btc_target'] = df_plot['mean_btc_target'].astype('float').astype('int')"
   ]
  },
  {
   "cell_type": "code",
   "execution_count": 5,
   "id": "15313aec",
   "metadata": {},
   "outputs": [
    {
     "data": {
      "image/png": "[encoded data removed]",
      "text/plain": [
       "<Figure size 864x576 with 1 Axes>"
      ]
     },
     "metadata": {
      "needs_background": "light"
     },
     "output_type": "display_data"
    }
   ],
   "source": [
    "import matplotlib.ticker as ticker\n",
    "\n",
    "plt.figure(figsize=(12, 8))\n",
    "ax = sns.barplot(data=df_plot, x='year', y='sum_btc_target', color='grey')\n",
    "\n",
    "plt.suptitle('BTC loss | Ransomware positive', fontsize=27, fontweight='bold', y=0.965)\n",
    "plt.title(f'The total loss in this period was {31_865_613} BTC', x=0.485, fontweight='bold', fontsize=14)\n",
    "ax.yaxis.set_major_formatter(ticker.ScalarFormatter(useMathText=False))\n",
    "ax.ticklabel_format(style='plain', axis='y')\n",
    "\n",
    "for p in ax.patches:\n",
    "    height = p.get_height()\n",
    "    ax.annotate(f'{height:,.0f} BTC',\n",
    "                (p.get_x() + p.get_width() / 2., height),\n",
    "                ha='center', va='bottom',\n",
    "                fontsize=12, fontweight='bold', color='grey')\n",
    "    \n",
    "plt.ylabel('Sum BTC when target a ransonware')\n",
    "plt.xlabel('Year')\n",
    "plt.show()"
   ]
  },
  {
   "cell_type": "code",
   "execution_count": 6,
   "id": "00e7ee3c",
   "metadata": {},
   "outputs": [
    {
     "name": "stdout",
     "output_type": "stream",
     "text": [
      "Sum of interations 84178\n",
      "Sum of transactions 24825683\n"
     ]
    }
   ],
   "source": [
    "df_plot = df.query(\"target == 1\").groupby(['address']).agg(\n",
    "    sum_btc_target=('BTC','sum'),\n",
    "    min_year=('year','min'),\n",
    "    sum_count=('count','sum'),\n",
    "    sum_neigh=('neighbors','sum')\n",
    ").reset_index()\n",
    "\n",
    "sum_neigh = df_plot['sum_neigh'].sum()\n",
    "sum_count = df_plot['sum_count'].sum()\n",
    "\n",
    "print(f'Sum of interations {sum_neigh}')\n",
    "print(f'Sum of transactions {sum_count}')"
   ]
  },
  {
   "cell_type": "markdown",
   "id": "bdcd502f",
   "metadata": {},
   "source": [
    "<br><br>\n",
    "\n",
    "<div style='text-align: center; font-family: \"Helvetica Neue\", Helvetica, Arial, sans-serif;'>\n",
    "  <span style='font-size: 30px;'>📊</span>\n",
    "  <span style='font-weight: bold; font-size: 32px; color: #2C4C65;'>Insights of the problem</span>\n",
    "</div>\n",
    "\n",
    "<br>"
   ]
  },
  {
   "cell_type": "markdown",
   "id": "4b7f4b78",
   "metadata": {},
   "source": [
    "#### We know bitcoin transactions can't be cancelled and it's hard to track it down who it's responsible for each transaction. But it's important to identify possible addresses that are not safe to transfer. <br>\n",
    "\n",
    "* A large amount of BTC is falling into the hands of criminals.\n",
    "* We can't cancel the transaction, but we can warn anyone trying to send BTC to an address that has been identified as criminal.\n",
    "* Following some research, ransomware detection can take years/months to conclude; this algorithm can help speed up the process.\n",
    "* We can contribute by saving people from both malicious and complex fraudulent transactions.\n",
    "* The probability of fewer fraudulent operations taking place may be due to new ways of detecting ransomware operations."
   ]
  },
  {
   "cell_type": "code",
   "execution_count": 9,
   "id": "aec73e0d",
   "metadata": {},
   "outputs": [],
   "source": [
    "# Quanto tempo antes o modelo consegue identificar um endereço como ransomware em comparação com a base original?\n",
    "# Quais famílias de ransomware foram mais capturadas pelo modelo?\n",
    "# Qual a taxa de falsos positivos (endereços 'white' que o modelo identificou como ransomware)?\n",
    "# \"Quantos endereços meu modelo identificou a mais do que a regra atual?\"\n",
    "# \"Quantas transações pertencem a um endereço que previamente meu modelo identificou como ransomware?\""
   ]
  }
 ],
 "metadata": {
  "kernelspec": {
   "display_name": "base",
   "language": "python",
   "name": "python3"
  },
  "language_info": {
   "codemirror_mode": {
    "name": "ipython",
    "version": 3
   },
   "file_extension": ".py",
   "mimetype": "text/x-python",
   "name": "python",
   "nbconvert_exporter": "python",
   "pygments_lexer": "ipython3",
   "version": "3.9.7"
  }
 },
 "nbformat": 4,
 "nbformat_minor": 5
}
